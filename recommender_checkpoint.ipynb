{
  "cells": [
    {
      "cell_type": "code",
      "execution_count": null,
      "metadata": {
        "colab": {
          "base_uri": "https://localhost:8080/"
        },
        "id": "Gqgssu299-Q2",
        "outputId": "0a339297-70f8-4291-a48d-4c9efd50cbb9"
      },
      "outputs": [
        {
          "output_type": "stream",
          "name": "stdout",
          "text": [
            "Looking in indexes: https://pypi.org/simple, https://us-python.pkg.dev/colab-wheels/public/simple/\n",
            "Collecting scikit-surprise\n",
            "  Downloading scikit-surprise-1.1.3.tar.gz (771 kB)\n",
            "\u001b[K     |████████████████████████████████| 771 kB 5.1 MB/s \n",
            "\u001b[?25hRequirement already satisfied: joblib>=1.0.0 in /usr/local/lib/python3.8/dist-packages (from scikit-surprise) (1.2.0)\n",
            "Requirement already satisfied: numpy>=1.17.3 in /usr/local/lib/python3.8/dist-packages (from scikit-surprise) (1.21.6)\n",
            "Requirement already satisfied: scipy>=1.3.2 in /usr/local/lib/python3.8/dist-packages (from scikit-surprise) (1.7.3)\n",
            "Building wheels for collected packages: scikit-surprise\n",
            "  Building wheel for scikit-surprise (setup.py) ... \u001b[?25l\u001b[?25hdone\n",
            "  Created wheel for scikit-surprise: filename=scikit_surprise-1.1.3-cp38-cp38-linux_x86_64.whl size=2626495 sha256=9721b711a6ab5be5712a1169ff100ec2996d81224492571c43264de9acc9050b\n",
            "  Stored in directory: /root/.cache/pip/wheels/af/db/86/2c18183a80ba05da35bf0fb7417aac5cddbd93bcb1b92fd3ea\n",
            "Successfully built scikit-surprise\n",
            "Installing collected packages: scikit-surprise\n",
            "Successfully installed scikit-surprise-1.1.3\n"
          ]
        }
      ],
      "source": [
        "!pip install scikit-surprise"
      ]
    },
    {
      "cell_type": "code",
      "execution_count": null,
      "metadata": {
        "colab": {
          "base_uri": "https://localhost:8080/"
        },
        "id": "inoKvAoucuCc",
        "outputId": "d165642a-da11-4278-b9f7-782558b3f68c"
      },
      "outputs": [
        {
          "output_type": "stream",
          "name": "stdout",
          "text": [
            "Setup Complete\n",
            "\n"
          ]
        }
      ],
      "source": [
        "#Setting up prerequisites\n",
        "import pandas as pd\n",
        "import numpy as np\n",
        "import math\n",
        "import re\n",
        "import sklearn\n",
        "from scipy.sparse import csr_matrix\n",
        "import matplotlib.pyplot as plt\n",
        "import seaborn as sns\n",
        "from surprise import Reader, Dataset, SVD\n",
        "from surprise.model_selection import cross_validate\n",
        "#, evaluate\n",
        "sns.set_style(\"darkgrid\")\n",
        "\n",
        "from cvxpy import *\n",
        "from numpy import matrix\n",
        "\n",
        "print(\"Setup Complete\\n\")"
      ]
    },
    {
      "cell_type": "code",
      "execution_count": null,
      "metadata": {
        "colab": {
          "base_uri": "https://localhost:8080/"
        },
        "id": "-o_9fV3UcuCe",
        "outputId": "e155ffa5-ea00-456b-f1a9-7783042f0219"
      },
      "outputs": [
        {
          "output_type": "stream",
          "name": "stdout",
          "text": [
            "Dataset 1 shape: (1024, 3)\n",
            "-Dataset examples-\n",
            "      Cust_Id  Rating        Date\n",
            "0          1:     NaN         NaN\n",
            "100   2630337     5.0  20050310.0\n",
            "200    573434     4.0  20040526.0\n",
            "300    638824     5.0  20040519.0\n",
            "400   1653834     4.0  20040822.0\n",
            "500   1033930     3.0  20050811.0\n",
            "600    349407     5.0  20050102.0\n",
            "700    656399     4.0  20030920.0\n",
            "800   1456369     4.0  20030708.0\n",
            "900    253037     3.0  20050805.0\n",
            "1000  1369550     3.0  20041011.0\n",
            "float64\n"
          ]
        }
      ],
      "source": [
        "# df1 = pd.read_csv('netflix-prize-data/toy_combined_data.txt', header = None, names = ['Cust_Id', 'Rating', 'Date'], usecols = [0,1,2])\n",
        "df1 = pd.read_csv('/content/feasible_data_1024.txt', header = None, names = ['Cust_Id', 'Rating', 'Date'], usecols = [0,1,2])\n",
        "df1['Rating'] = df1['Rating'].astype(float)\n",
        "df1['Date'] = df1['Date'].astype(str)\n",
        "df1['Date'] = df1['Date'].map( lambda s : (s[:4])+(s[5:7])+(s[8:]))\n",
        "df1['Date'] = df1['Date'].astype(float)\n",
        "print('Dataset 1 shape: {}'.format(df1.shape))\n",
        "print('-Dataset examples-')\n",
        "print(df1.iloc[::100, :])\n",
        "print(df1['Date'].dtype)\n",
        "df = df1"
      ]
    },
    {
      "cell_type": "code",
      "execution_count": null,
      "metadata": {
        "colab": {
          "base_uri": "https://localhost:8080/",
          "height": 613
        },
        "id": "BtYUvAeGcuCf",
        "outputId": "193679b6-422d-4586-f2bc-481b78df8189"
      },
      "outputs": [
        {
          "output_type": "stream",
          "name": "stdout",
          "text": [
            "See Overview of the Data\n"
          ]
        },
        {
          "output_type": "display_data",
          "data": {
            "text/plain": [
              "<Figure size 1080x720 with 1 Axes>"
            ],
            "image/png": "[encoded data removed]"
          },
          "metadata": {}
        }
      ],
      "source": [
        "#Seeing the distribution of ratings given by the users\n",
        "print(\"See Overview of the Data\")\n",
        "p = df.groupby('Rating')['Rating'].agg(['count'])\n",
        "# get movie count\n",
        "movie_count = df.isnull().sum()[1]\n",
        "# get customer count\n",
        "cust_count = df['Cust_Id'].nunique() - movie_count\n",
        "# get rating count\n",
        "rating_count = df['Cust_Id'].count() - movie_count\n",
        "ax = p.plot(kind = 'barh', legend = False, figsize = (15,10))\n",
        "plt.title('Total pool: {:,} Movies, {:,} customers, {:,} ratings given'.format(movie_count, cust_count, rating_count), fontsize=20)\n",
        "plt.axis('off')\n",
        "for i in range(1,6):\n",
        "    ax.text(p.iloc[i-1][0]/4, i-1, 'Rated {}: {:.0f}%'.format(i, p.iloc[i-1][0]*100 / p.sum()[0]), color = 'white', weight = 'bold')"
      ]
    },
    {
      "cell_type": "code",
      "execution_count": null,
      "metadata": {
        "colab": {
          "base_uri": "https://localhost:8080/"
        },
        "id": "gdCZbpfzcuCf",
        "outputId": "8e810009-2481-4d2d-9df8-66db24b5d8af"
      },
      "outputs": [
        {
          "output_type": "stream",
          "name": "stdout",
          "text": [
            "Movie IDs extracted from the extra rows given\n"
          ]
        }
      ],
      "source": [
        "#Adding movie IDs to the dataset\n",
        "movie_np = []\n",
        "movie_id = 0\n",
        "for x in range(df.shape[0]):\n",
        "    if(np.isnan(df.iloc[x]['Rating'])):\n",
        "        movie_id = movie_id+1\n",
        "    movie_np = np.append(movie_np,movie_id)\n",
        "\n",
        "#print(movie_np)\n",
        "#print(len(movie_np))\n",
        "df['Movie_Id'] = movie_np.astype(int)\n",
        "print(\"Movie IDs extracted from the extra rows given\")"
      ]
    },
    {
      "cell_type": "code",
      "execution_count": null,
      "metadata": {
        "colab": {
          "base_uri": "https://localhost:8080/"
        },
        "id": "t89AdPFEcuCg",
        "outputId": "bdce2046-6d82-42bf-cae6-c5d83c309924"
      },
      "outputs": [
        {
          "output_type": "stream",
          "name": "stdout",
          "text": [
            "-Dataset examples-\n",
            "      Cust_Id  Rating        Date  Movie_Id\n",
            "1     1488844     3.0  20050906.0         1\n",
            "101   1155747     3.0  20050703.0         1\n",
            "201   1141189     4.0  20041215.0         1\n",
            "301   2256485     1.0  20040819.0         1\n",
            "401   2322840     3.0  20050712.0         1\n",
            "501     45117     5.0  20050815.0         1\n",
            "602   2596999     4.0  20051007.0         2\n",
            "703   1644750     3.0  20030319.0         3\n",
            "803    372528     3.0  20040630.0         3\n",
            "903   1115632     3.0  20031124.0         3\n",
            "1003  2085230     4.0  20040315.0         3\n",
            "\n",
            "\n",
            "These are the final datatypes of the dataset\n",
            "Cust_Id       int64\n",
            "Rating      float64\n",
            "Date        float64\n",
            "Movie_Id      int64\n",
            "dtype: object\n"
          ]
        },
        {
          "output_type": "stream",
          "name": "stderr",
          "text": [
            "<ipython-input-6-f7e4a277203a>:3: SettingWithCopyWarning: \n",
            "A value is trying to be set on a copy of a slice from a DataFrame.\n",
            "Try using .loc[row_indexer,col_indexer] = value instead\n",
            "\n",
            "See the caveats in the documentation: https://pandas.pydata.org/pandas-docs/stable/user_guide/indexing.html#returning-a-view-versus-a-copy\n",
            "  df['Cust_Id'] = df['Cust_Id'].astype(int)\n"
          ]
        }
      ],
      "source": [
        "# remove the extra Movie ID rows\n",
        "df = df[pd.notnull(df['Rating'])]\n",
        "df['Cust_Id'] = df['Cust_Id'].astype(int)\n",
        "print('-Dataset examples-')\n",
        "print(df.iloc[::100, :])\n",
        "\n",
        "\n",
        "print(\"\\n\\nThese are the final datatypes of the dataset\")\n",
        "print(df.dtypes)"
      ]
    },
    {
      "cell_type": "code",
      "execution_count": null,
      "metadata": {
        "colab": {
          "base_uri": "https://localhost:8080/"
        },
        "id": "sdXXEawacuCg",
        "outputId": "98f74376-f65c-4fe1-8a82-59eee69af8a5"
      },
      "outputs": [
        {
          "output_type": "stream",
          "name": "stdout",
          "text": [
            "(1009, 3)\n"
          ]
        }
      ],
      "source": [
        "#Creating Data Matrix\n",
        "df_matrix=pd.pivot_table(df,values='Rating',index='Cust_Id',columns='Movie_Id')\n",
        "print(df_matrix.shape)"
      ]
    },
    {
      "cell_type": "code",
      "execution_count": null,
      "metadata": {
        "colab": {
          "base_uri": "https://localhost:8080/"
        },
        "id": "bVezBeY_cuCg",
        "outputId": "d9bc8dbe-f05b-4b92-91bc-3b4841b4be07"
      },
      "outputs": [
        {
          "output_type": "stream",
          "name": "stdout",
          "text": [
            "See some Movie ID- Movie Title Mapping : \n",
            "\n",
            "            Year                          Name\n",
            "Movie_Id                                      \n",
            "1         2003.0               Dinosaur Planet\n",
            "2         2004.0    Isle of Man TT 2004 Review\n",
            "3         1997.0                     Character\n",
            "4         1994.0  Paula Abdul's Get Up & Dance\n",
            "5         2004.0      The Rise and Fall of ECW\n",
            "6         1997.0                          Sick\n",
            "7         1992.0                         8 Man\n",
            "8         2004.0    What the #$*! Do We Know!?\n"
          ]
        }
      ],
      "source": [
        "#Loading the Movie ID- Movie Title Mapping File\n",
        "\n",
        "df_title = pd.read_csv('/content/movie_titles.csv', encoding = \"ISO-8859-1\", header = None, names = ['Movie_Id', 'Year', 'Name'])\n",
        "df_title.set_index('Movie_Id', inplace = True)\n",
        "print(\"See some Movie ID- Movie Title Mapping : \\n\")\n",
        "print (df_title.head(8))"
      ]
    },
    {
      "cell_type": "code",
      "execution_count": null,
      "metadata": {
        "colab": {
          "base_uri": "https://localhost:8080/"
        },
        "id": "ZBGojNMscuCh",
        "outputId": "0ba5d82f-3698-46fc-dd3c-a2572e552d65"
      },
      "outputs": [
        {
          "output_type": "stream",
          "name": "stdout",
          "text": [
            "\n",
            "\n",
            "Data Cleaning Complete.\n",
            " See head of the Data Matrix:\n",
            "\n",
            "Movie_Id    1   2    3\n",
            "Cust_Id               \n",
            "915       5.0 NaN  NaN\n",
            "1333      NaN NaN  4.0\n",
            "2442      3.0 NaN  NaN\n",
            "3321      3.0 NaN  NaN\n",
            "4326      4.0 NaN  NaN\n",
            "\n",
            "Num of movies = 3\n",
            "Num of users = 1009\n"
          ]
        }
      ],
      "source": [
        "print(\"\\n\\nData Cleaning Complete.\\n See head of the Data Matrix:\\n\")\n",
        "print(df_matrix.head())\n",
        "\n",
        "n_movies = movie_count\n",
        "n_customers = cust_count\n",
        "\n",
        "print(\"\\nNum of movies =\", movie_count)\n",
        "print(\"Num of users =\", cust_count)"
      ]
    },
    {
      "cell_type": "code",
      "execution_count": null,
      "metadata": {
        "colab": {
          "base_uri": "https://localhost:8080/"
        },
        "id": "YEpUycYqcuCh",
        "outputId": "f65edb07-da10-4c66-b6c7-be48e05fedef"
      },
      "outputs": [
        {
          "output_type": "stream",
          "name": "stdout",
          "text": [
            "Movie_Id    1    2    3\n",
            "Cust_Id                \n",
            "915       5.0  0.0  0.0\n",
            "1333      0.0  0.0  4.0\n",
            "2442      3.0  0.0  0.0\n",
            "3321      3.0  0.0  0.0\n",
            "4326      4.0  0.0  0.0\n"
          ]
        }
      ],
      "source": [
        "#Choosing the number of latent attributes\n",
        "n_attr= 100*1000000\n",
        "#print(type(n_attr),type(n_movies), type(n_customers))\n",
        "Q = Variable((n_attr,n_movies))\n",
        "P = Variable((n_attr, n_customers))\n",
        "\n",
        "\n",
        "\n",
        "acq_data = df_matrix.fillna(0.0)\n",
        "print(acq_data.head())\n",
        "\n"
      ]
    },
    {
      "cell_type": "code",
      "execution_count": null,
      "metadata": {
        "id": "F0svVoxUcuCh"
      },
      "outputs": [],
      "source": [
        "class MF():\n",
        "\n",
        "    def __init__(self, R, K, alpha, beta, iterations):\n",
        "        \"\"\"\n",
        "        Perform matrix factorization to predict empty\n",
        "        entries in a matrix.\n",
        "\n",
        "        Arguments\n",
        "        - R (ndarray)   : user-item rating matrix\n",
        "        - K (int)       : number of latent dimensions\n",
        "        - alpha (float) : learning rate\n",
        "        - beta (float)  : regularization parameter\n",
        "        \"\"\"\n",
        "\n",
        "        self.R = R\n",
        "        self.num_users, self.num_items = R.shape\n",
        "        self.K = K\n",
        "        self.alpha = alpha\n",
        "        self.beta = beta\n",
        "        self.iterations = iterations\n",
        "\n",
        "    def train(self):\n",
        "        # Initialize user and item latent feature matrice\n",
        "        self.P = np.random.normal(scale=1./self.K, size=(self.num_users, self.K))\n",
        "        self.Q = np.random.normal(scale=1./self.K, size=(self.num_items, self.K))\n",
        "\n",
        "        # Initialize the biases\n",
        "        self.b_u = np.zeros(self.num_users)\n",
        "        self.b_i = np.zeros(self.num_items)\n",
        "        self.b = np.mean(self.R[np.where(self.R != 0)])\n",
        "\n",
        "        # Create a list of training samples\n",
        "        self.samples = [\n",
        "            (i, j, self.R[i, j])\n",
        "            for i in range(self.num_users)\n",
        "            for j in range(self.num_items)\n",
        "            if self.R[i, j] > 0\n",
        "        ]\n",
        "\n",
        "        # Perform stochastic gradient descent for number of iterations\n",
        "        training_process = []\n",
        "        for i in range(self.iterations):\n",
        "            np.random.shuffle(self.samples)\n",
        "            self.sgd()\n",
        "            mse = self.mse()\n",
        "            training_process.append((i, mse))\n",
        "            if (i+1) % 100 == 0:\n",
        "                print(\"Iteration: %d ; error = %.4f\" % (i+1, mse))\n",
        "\n",
        "        return training_process\n",
        "\n",
        "    def mse(self):\n",
        "        \"\"\"\n",
        "        A function to compute the total mean square error\n",
        "        \"\"\"\n",
        "        xs, ys = self.R.nonzero()\n",
        "        predicted = self.full_matrix()\n",
        "        error = 0\n",
        "        for x, y in zip(xs, ys):\n",
        "            error += pow(self.R[x, y] - predicted[x, y], 2)\n",
        "        return np.sqrt(error)\n",
        "\n",
        "    def sgd(self):\n",
        "        \"\"\"\n",
        "        Perform stochastic graident descent\n",
        "        \"\"\"\n",
        "        for i, j, r in self.samples:\n",
        "            # Computer prediction and error\n",
        "            prediction = self.get_rating(i, j)\n",
        "            e = (r - prediction)\n",
        "\n",
        "            # Update biases\n",
        "            self.b_u[i] += self.alpha * (e - self.beta * self.b_u[i])\n",
        "            self.b_i[j] += self.alpha * (e - self.beta * self.b_i[j])\n",
        "\n",
        "            # Update user and item latent feature matrices\n",
        "            self.P[i, :] += self.alpha * (e * self.Q[j, :] - self.beta * self.P[i,:])\n",
        "            self.Q[j, :] += self.alpha * (e * self.P[i, :] - self.beta * self.Q[j,:])\n",
        "\n",
        "    def get_rating(self, i, j):\n",
        "        \"\"\"\n",
        "        Get the predicted rating of user i and item j\n",
        "        \"\"\"\n",
        "        prediction = self.b + self.b_u[i] + self.b_i[j] + self.P[i, :].dot(self.Q[j, :].T)\n",
        "        return prediction\n",
        "\n",
        "    def full_matrix(self):\n",
        "        \"\"\"\n",
        "        Computer the full matrix using the resultant biases, P and Q\n",
        "        \"\"\"\n",
        "        return self.b + self.b_u[:,np.newaxis] + self.b_i[np.newaxis:,] + self.P.dot(self.Q.T)"
      ]
    },
    {
      "cell_type": "markdown",
      "metadata": {
        "id": "lyNmxZaW8tch"
      },
      "source": [
        "# Mục mới"
      ]
    },
    {
      "cell_type": "code",
      "execution_count": null,
      "metadata": {
        "colab": {
          "base_uri": "https://localhost:8080/"
        },
        "id": "Vf-DwIBbcuCi",
        "outputId": "0a43f530-aacb-49aa-a8db-bd7fef746226"
      },
      "outputs": [
        {
          "output_type": "stream",
          "name": "stdout",
          "text": [
            "\n",
            "P x Q:\n",
            "[[4.53013095 3.79433013 3.77096609]\n",
            " [3.89196532 3.61120129 3.68706935]\n",
            " [3.38040334 3.37807043 3.44357883]\n",
            " ...\n",
            " [3.66891702 3.43458818 3.35394279]\n",
            " [3.9699974  3.60461532 3.61779975]\n",
            " [3.63352848 3.38315967 3.47992103]]\n",
            "\n",
            "Global bias:\n",
            "3.6787463271302645\n",
            "\n",
            "User bias:\n",
            "[ 0.21007102  0.07031282 -0.12333043 ... -0.10666472  0.04261918\n",
            " -0.10273995]\n",
            "\n",
            "Item bias:\n",
            "[ 0.13323481 -0.13069131 -0.10862876]\n"
          ]
        }
      ],
      "source": [
        "#R = np.array([\n",
        "#    [5, 3, 0, 1],\n",
        "#    [4, 0, 0, 1],\n",
        "#    [1, 1, 0, 5],\n",
        "#    [1, 0, 0, 4],\n",
        "#    [0, 1, 5, 4],\n",
        "#])\n",
        "\n",
        "R = np.array(acq_data)\n",
        "\n",
        "mf = MF(R, K=100, alpha=0.01, beta=0.01, iterations=20)\n",
        "training_process = mf.train()\n",
        "print()\n",
        "print(\"P x Q:\")\n",
        "print(mf.full_matrix())\n",
        "print()\n",
        "print(\"Global bias:\")\n",
        "print(mf.b)\n",
        "print()\n",
        "print(\"User bias:\")\n",
        "print(mf.b_u)\n",
        "print()\n",
        "print(\"Item bias:\")\n",
        "print(mf.b_i)"
      ]
    },
    {
      "cell_type": "code",
      "execution_count": null,
      "metadata": {
        "colab": {
          "base_uri": "https://localhost:8080/",
          "height": 314
        },
        "id": "_Yv7DIEncuCj",
        "outputId": "83c26d20-a4c1-45e2-c2cc-fd6e749010ab"
      },
      "outputs": [
        {
          "output_type": "stream",
          "name": "stdout",
          "text": [
            "This is the Result for Training Set:\n",
            "\n"
          ]
        },
        {
          "output_type": "display_data",
          "data": {
            "text/plain": [
              "<Figure size 1152x288 with 1 Axes>"
            ],
            "image/png": "[encoded data removed]"
          },
          "metadata": {}
        }
      ],
      "source": [
        "x = [x for x, y in training_process]\n",
        "y = [y for x, y in training_process]\n",
        "plt.figure(figsize=((16,4)))\n",
        "plt.plot(x, np.sqrt(y))\n",
        "plt.xticks(x, x)\n",
        "\n",
        "print(\"This is the Result for Training Set:\\n\")\n",
        "plt.xlabel(\"Iterations\")\n",
        "plt.ylabel(\"Root Mean Square Error\")\n",
        "plt.grid(axis=\"y\")"
      ]
    },
    {
      "cell_type": "code",
      "execution_count": null,
      "metadata": {
        "colab": {
          "base_uri": "https://localhost:8080/"
        },
        "id": "f_fb0-G4cuCj",
        "outputId": "541e7de6-46ec-4bfd-ca87-f939625bf7f2"
      },
      "outputs": [
        {
          "output_type": "stream",
          "name": "stdout",
          "text": [
            "Original:\n",
            " [[5 3 0 1]\n",
            " [4 0 0 1]\n",
            " [1 1 0 5]\n",
            " [1 0 0 4]\n",
            " [0 1 5 4]]\n",
            "Test Set:\n",
            " [[0 3 0 0]\n",
            " [4 0 0 1]\n",
            " [1 1 0 5]\n",
            " [1 0 0 4]\n",
            " [0 1 5 4]]\n",
            "MSE= 1.140175425099138\n",
            "Iteration: 100 ; error = 3.9355\n",
            "Iteration: 200 ; error = 0.7060\n",
            "Iteration: 300 ; error = 0.3612\n",
            "Iteration: 400 ; error = 0.1985\n",
            "Iteration: 500 ; error = 0.1194\n",
            "Iteration: 600 ; error = 0.0810\n",
            "Iteration: 700 ; error = 0.0629\n",
            "Iteration: 800 ; error = 0.0547\n",
            "Iteration: 900 ; error = 0.0507\n",
            "Iteration: 1000 ; error = 0.0488\n",
            "Iteration: 1100 ; error = 0.0477\n",
            "Iteration: 1200 ; error = 0.0470\n",
            "Iteration: 1300 ; error = 0.0465\n",
            "Iteration: 1400 ; error = 0.0462\n",
            "Iteration: 1500 ; error = 0.0458\n",
            "Iteration: 1600 ; error = 0.0455\n",
            "Iteration: 1700 ; error = 0.0453\n",
            "Iteration: 1800 ; error = 0.0449\n",
            "Iteration: 1900 ; error = 0.0447\n",
            "Iteration: 2000 ; error = 0.0445\n",
            "Iteration: 2100 ; error = 0.0443\n",
            "Iteration: 2200 ; error = 0.0441\n",
            "Iteration: 2300 ; error = 0.0439\n",
            "Iteration: 2400 ; error = 0.0437\n",
            "Iteration: 2500 ; error = 0.0435\n",
            "Iteration: 2600 ; error = 0.0433\n",
            "Iteration: 2700 ; error = 0.0431\n",
            "Iteration: 2800 ; error = 0.0430\n",
            "Iteration: 2900 ; error = 0.0428\n",
            "Iteration: 3000 ; error = 0.0427\n",
            "Iteration: 3100 ; error = 0.0425\n",
            "Iteration: 3200 ; error = 0.0423\n",
            "Iteration: 3300 ; error = 0.0422\n",
            "Iteration: 3400 ; error = 0.0420\n",
            "Iteration: 3500 ; error = 0.0420\n",
            "Iteration: 3600 ; error = 0.0419\n",
            "Iteration: 3700 ; error = 0.0416\n",
            "Iteration: 3800 ; error = 0.0416\n",
            "Iteration: 3900 ; error = 0.0415\n",
            "Iteration: 4000 ; error = 0.0414\n",
            "Iteration: 4100 ; error = 0.0413\n",
            "Iteration: 4200 ; error = 0.0411\n",
            "Iteration: 4300 ; error = 0.0410\n",
            "Iteration: 4400 ; error = 0.0409\n",
            "Iteration: 4500 ; error = 0.0409\n",
            "Iteration: 4600 ; error = 0.0408\n",
            "Iteration: 4700 ; error = 0.0407\n",
            "Iteration: 4800 ; error = 0.0406\n",
            "Iteration: 4900 ; error = 0.0405\n",
            "Iteration: 5000 ; error = 0.0404\n",
            "Iteration: 5100 ; error = 0.0404\n",
            "Iteration: 5200 ; error = 0.0403\n",
            "Iteration: 5300 ; error = 0.0403\n",
            "Iteration: 5400 ; error = 0.0401\n",
            "Iteration: 5500 ; error = 0.0401\n",
            "Iteration: 5600 ; error = 0.0400\n",
            "Iteration: 5700 ; error = 0.0399\n",
            "Iteration: 5800 ; error = 0.0399\n",
            "Iteration: 5900 ; error = 0.0399\n",
            "Iteration: 6000 ; error = 0.0398\n",
            "Iteration: 6100 ; error = 0.0397\n",
            "Iteration: 6200 ; error = 0.0397\n",
            "Iteration: 6300 ; error = 0.0396\n",
            "Iteration: 6400 ; error = 0.0395\n",
            "Iteration: 6500 ; error = 0.0395\n",
            "Iteration: 6600 ; error = 0.0395\n",
            "Iteration: 6700 ; error = 0.0394\n",
            "Iteration: 6800 ; error = 0.0394\n",
            "Iteration: 6900 ; error = 0.0394\n",
            "Iteration: 7000 ; error = 0.0392\n",
            "Iteration: 7100 ; error = 0.0392\n",
            "Iteration: 7200 ; error = 0.0392\n",
            "Iteration: 7300 ; error = 0.0392\n",
            "Iteration: 7400 ; error = 0.0392\n",
            "Iteration: 7500 ; error = 0.0391\n",
            "Iteration: 7600 ; error = 0.0391\n",
            "Iteration: 7700 ; error = 0.0391\n",
            "Iteration: 7800 ; error = 0.0390\n",
            "Iteration: 7900 ; error = 0.0390\n",
            "Iteration: 8000 ; error = 0.0389\n",
            "Iteration: 8100 ; error = 0.0389\n",
            "Iteration: 8200 ; error = 0.0388\n",
            "Iteration: 8300 ; error = 0.0389\n",
            "Iteration: 8400 ; error = 0.0388\n",
            "Iteration: 8500 ; error = 0.0388\n",
            "Iteration: 8600 ; error = 0.0387\n",
            "Iteration: 8700 ; error = 0.0387\n",
            "Iteration: 8800 ; error = 0.0387\n",
            "Iteration: 8900 ; error = 0.0387\n",
            "Iteration: 9000 ; error = 0.0386\n",
            "Iteration: 9100 ; error = 0.0386\n",
            "Iteration: 9200 ; error = 0.0386\n",
            "Iteration: 9300 ; error = 0.0386\n",
            "Iteration: 9400 ; error = 0.0386\n",
            "Iteration: 9500 ; error = 0.0386\n",
            "Iteration: 9600 ; error = 0.0385\n",
            "Iteration: 9700 ; error = 0.0385\n",
            "Iteration: 9800 ; error = 0.0384\n",
            "Iteration: 9900 ; error = 0.0385\n",
            "Iteration: 10000 ; error = 0.0384\n",
            "Learnt=\n",
            " [[3.57822526 2.99561117 5.17717088 3.68247437]\n",
            " [3.99012441 2.89135243 3.27534304 1.01285878]\n",
            " [1.0080292  1.006463   5.594273   4.98015615]\n",
            " [1.01068074 0.86564821 4.82763676 3.99477016]\n",
            " [1.27997074 1.01935835 4.98663977 3.99893413]]\n"
          ]
        }
      ],
      "source": [
        "R = np.array([\n",
        "    [5, 3, 0, 1],\n",
        "    [4, 0, 0, 1],\n",
        "    [1, 1, 0, 5],\n",
        "    [1, 0, 0, 4],\n",
        "    [0, 1, 5, 4],\n",
        "])\n",
        "\n",
        "R1= np.array([\n",
        "    [5, 3, 0, 1],\n",
        "    [4, 0, 0, 1],\n",
        "    [1, 1, 0, 5],\n",
        "    [1, 0, 0, 4],\n",
        "    [0, 1, 5, 4],\n",
        "])\n",
        "\n",
        "#Set the number of values to replace. For example 20%:\n",
        "\n",
        "# Edit: changed len(mat) for mat.size\n",
        "prop = int(R.size * 0.2)\n",
        "\n",
        "#Randomly choose indices of the numpy array:\n",
        "i = [np.random.choice(range(R.shape[0])) for _ in range(prop)]\n",
        "j = [np.random.choice(range(R.shape[1])) for _ in range(prop)]\n",
        "\n",
        "#Change values with NaN\n",
        "R[i,j] = 0\n",
        "print(\"Original:\\n\",R1)\n",
        "print(\"Test Set:\\n\",R)\n",
        "R=np.rint(R)\n",
        "\n",
        "from sklearn.metrics import mean_squared_error\n",
        "mse = mean_squared_error(R, R1)\n",
        "\n",
        "print(\"MSE=\",mse**0.5)\n",
        "\n",
        "mf = MF(R, K=10000, alpha=0.01, beta=0.01, iterations=10000)\n",
        "training_process = mf.train()\n",
        "\n",
        "print(\"Learnt=\\n\",mf.full_matrix())\n"
      ]
    },
    {
      "cell_type": "code",
      "execution_count": null,
      "metadata": {
        "colab": {
          "base_uri": "https://localhost:8080/"
        },
        "id": "rE3suCFVcuCl",
        "outputId": "7ca4c100-c633-4109-8859-a0d839901a30"
      },
      "outputs": [
        {
          "output_type": "stream",
          "name": "stdout",
          "text": [
            "Original:\n",
            " [[5. 0. 0.]\n",
            " [0. 0. 4.]\n",
            " [3. 0. 0.]\n",
            " ...\n",
            " [0. 0. 3.]\n",
            " [4. 0. 0.]\n",
            " [0. 3. 0.]]\n",
            "Test Set:\n",
            " [[5. 0. 0.]\n",
            " [0. 0. 4.]\n",
            " [3. 0. 0.]\n",
            " ...\n",
            " [0. 0. 0.]\n",
            " [4. 0. 0.]\n",
            " [0. 3. 0.]]\n",
            "RMSE= 0.9626318400431271\n",
            "Learnt=\n",
            " [[3.86898788 3.60100036 3.75345129]\n",
            " [3.79370588 3.52585573 3.67835524]\n",
            " [3.67583867 3.40805239 3.56053473]\n",
            " ...\n",
            " [3.75223459 3.48438309 3.63684701]\n",
            " [3.77050082 3.50262093 3.65508204]\n",
            " [3.7014388  3.43356976 3.58606569]]\n",
            "RMSE f= [0.24777436 3.52458126 1.3631491  3.55782402 0.24776551 0.63684885\n",
            " 1.2477685  3.74936804 0.36314545 0.36315388 3.70209478 3.55782402\n",
            " 0.51561768 3.31071856 3.77600373 3.63685448 0.75223207 2.75224133\n",
            " 1.51561888 3.46519434 3.50489557 2.63685038 3.42904762 3.60625837\n",
            " 1.5156213  0.24776228 3.48438576 3.40888749 3.75223899 3.5024242\n",
            " 3.65199955 3.37089853 3.79287043 0.63685394 3.75223037 1.7522338\n",
            " 3.36884116 3.65744705 3.39526644 1.36314852 3.75224299 3.43085853\n",
            " 3.42887375 3.88986048 1.24776584 3.50231267 3.63685247 3.48438061\n",
            " 1.63684784 0.75224443 0.24776808 0.24775447 3.50434306 3.48438016\n",
            " 3.463038   0.75222985 0.24775692 3.52468331 3.75500189 1.36314925\n",
            " 0.75223557 1.24775462 0.51561729 0.24776551 3.6562243  0.24776305\n",
            " 3.79253432 3.50394759 0.36314529 1.24776767 3.48437548 2.75224623\n",
            " 3.40982475 3.50236632 3.65581912 0.7522303  3.79370588 3.4290966\n",
            " 3.75426714 3.56230802 3.62164048 3.68022389 0.24777037 0.36315681\n",
            " 3.65921628 3.75223008 3.42991982 0.48438242 3.50517906 3.21559539\n",
            " 0.2477655  3.40648578 1.51562372 3.75380585 0.75223747 3.75345129\n",
            " 3.65744705 3.48438153 1.5156213  0.75223247 3.5052319  3.40513947\n",
            " 3.79212292 3.62022325 3.63685122 0.36314732 3.5990928  3.50393011\n",
            " 3.50674392 3.56053473 3.7477085  0.515614   3.55997451 1.63684812\n",
            " 3.48437969 3.48437821 3.50323263 1.24776748 1.36314796 3.52625034\n",
            " 2.75224246 3.60014245 3.6368502  0.36315494 3.48437854 3.60119244\n",
            " 1.3631491  1.24776672 3.48437941 0.24776081 3.43028561 3.48438016\n",
            " 3.89421413 3.21807452 3.79362562 0.63685177 3.75224556 3.60627548\n",
            " 0.63684589 3.50337825 0.48438242 0.48438162 1.36314374 1.36314553\n",
            " 3.42873881 0.48438188 3.79553904 1.75223649 3.79538869 3.48438743\n",
            " 0.36315666 3.89003009 0.63684531 0.36314451 3.69635155 0.7522302\n",
            " 3.55782402 3.50441038 2.75224253 3.50976258 3.59926731 3.50083537\n",
            " 3.75144775 3.48438214 3.40821715 3.55886093 2.48438718 3.6567548\n",
            " 0.36315162 3.68216579 3.75400074 3.56048192 3.56108287 3.50135187\n",
            " 3.89287795 3.33377909 0.36314899 1.75222972 3.60150843 3.48438347\n",
            " 3.50648713 2.63685219 3.52676637 3.75500189 3.79751604 1.51561888\n",
            " 3.79912827 3.5617828  0.63685771 1.75223707 3.50358038 1.51561629\n",
            " 3.63685448 1.75223781 3.75223736 3.49892487 3.74912051 3.65651466\n",
            " 3.42892099 3.52787008 0.24776228 0.36314578 0.63685336 3.48438435\n",
            " 3.37058227 1.36315012 3.75187044 0.63684715 1.36314881 0.24776367\n",
            " 3.65865357 0.2477682  3.56211043 3.40886339 3.50522304 0.63685139\n",
            " 3.75224089 3.49181035 3.5047526  3.52753479 2.75223443 3.48438289\n",
            " 0.48438091 3.70228208 3.40542692 0.36314578 3.48437862 2.75223443\n",
            " 3.52517453 3.65774641 3.60005743 1.51561747 3.60732303 1.36315032\n",
            " 0.2477563  3.60248018 0.63685127 3.50440496 0.24775177 3.50146822\n",
            " 3.79534384 3.79387024 3.58630048 3.79773423 3.59818101 0.36314695\n",
            " 3.65902989 3.50402135 3.42950856 3.52562593 3.79408705 3.79528519\n",
            " 3.48437908 3.55795333 0.24776075 3.50560277 3.75223899 3.75223129\n",
            " 3.56187307 3.48437601 3.33161646 3.58594558 3.48438518 3.60255732\n",
            " 0.24776177 1.63685171 0.36315101 3.48438272 3.48438243 3.31270414\n",
            " 3.65684128 3.59849043 3.50579322 0.36314919 3.60175222 0.40214131\n",
            " 0.63685225 3.77837716 3.79560864 3.5976065  3.48438495 3.62319263\n",
            " 3.75222945 0.75225499 3.48438191 0.48437892 1.247767   3.50051398\n",
            " 1.24776257 3.52580884 0.24776157 3.36873069 3.56097318 3.23727682\n",
            " 0.63685214 3.65700382 0.2477595  3.30934653 3.65356523 3.69445694\n",
            " 3.48437951 0.36314991 3.52745159 3.89582224 3.89365453 3.68013973\n",
            " 3.77735749 3.59979831 3.50527984 3.50527753 3.48438611 3.79178108\n",
            " 0.24775581 0.75224997 0.36315666 0.63684715 0.75223958 3.50358038\n",
            " 3.69551046 3.69999411 3.70007306 1.24776607 1.36315053 1.24776244\n",
            " 3.75223899 0.56101559 3.68139825 3.75195314 3.59874615 0.51561797\n",
            " 3.50292512 0.63684547 3.56049619 3.48438479 3.50110241 3.56056298\n",
            " 0.2477561  3.48438435 3.88912124 3.6567706  3.7936455  3.56048192\n",
            " 1.36314687 3.63684639 3.7921539  3.65774641 1.63684812 0.24776209\n",
            " 0.36314559 0.36315321 1.36315032 3.62099973 3.65526015 3.56106475\n",
            " 3.65356523 3.50750764 3.64967136 3.55800831 3.52611596 0.36314987\n",
            " 3.69886576 3.65545499 0.36314989 1.24776482 3.52426894 2.75224299\n",
            " 3.79396141 3.4843801  0.36314868 3.60169041 0.63684922 3.59802704\n",
            " 3.52555957 0.36314325 3.50648713 0.36315162 3.69737453 1.63684847\n",
            " 0.75224065 3.75223736 3.5039613  1.3631502  3.6206294  3.51018522\n",
            " 3.524155   0.51561729 3.50169144 1.36315558 0.51562053 3.4063826\n",
            " 3.52434003 1.24776767 0.75223557 1.63685101 0.24776623 3.89003009\n",
            " 1.24776607 3.65546524 3.50429209 3.89582224 1.2477676  3.65369585\n",
            " 3.51084143 3.52458126 3.65640673 3.65483714 3.36842434 3.49953425\n",
            " 0.24775961 1.24776565 3.33318337 3.75449051 3.48438458 3.75097061\n",
            " 3.68319145 3.48438203 3.75223673 3.60022608 0.75223517 3.4096301\n",
            " 3.42892978 3.61900926 1.24775869 1.24776147 3.75223484 3.56097318\n",
            " 3.21652843 3.61953422 3.79616187 3.65526015 0.24776083 2.75223595\n",
            " 3.60120551 3.40776098 3.50618736 1.24776162 3.48438389 3.75224287\n",
            " 3.63684824 2.75223557 3.75223806 3.65393249 3.60069619 3.75579619\n",
            " 3.75222993 3.77837716 3.31331391 3.75223594 3.59729576 3.65205191\n",
            " 0.75223767 3.31569351 3.75222993 1.7522358  3.59953542 3.59839407\n",
            " 1.63685101 3.79184167 3.50437239 1.24776129 3.46439594 3.52421125\n",
            " 0.63684701 3.7978678  1.24776599 0.3631497  2.48438064 3.50441038\n",
            " 3.56048847 3.65601539 3.69708144 1.51561605 0.5156164  3.65651157\n",
            " 0.6368459  0.48438304 0.36314686 3.65508204 0.75223437 3.89401651\n",
            " 2.75222764 3.48438017 0.36314967 3.68241761 1.3631491  3.69835857\n",
            " 1.36315267 3.46680066 3.75153033 0.75224444 3.40551721 3.56013672\n",
            " 3.60042667 3.59802704 1.3631529  3.75223873 0.36315321 1.51561932\n",
            " 1.6368483  3.79389529 3.46557652 3.65591502 0.51561637 3.69999411\n",
            " 3.50518417 3.59880921 3.7527254  3.48438355 3.65440771 3.5591437\n",
            " 3.69690812 1.36314802 3.75441699 1.75223537 3.75122531 3.48438193\n",
            " 0.24776415 3.48437911 3.5582594  3.59796108 3.50124399 3.55800831\n",
            " 0.75223926 3.40922942 3.33547681 3.40648578 3.50397771 3.6983965\n",
            " 1.51562083 3.56023847 0.36314397 3.79312495 3.48438684 3.59956896\n",
            " 0.24776052 3.48438479 3.89003009 3.40848848 3.75035707 3.50277856\n",
            " 3.88735963 0.75223871 3.56002783 3.46567274 3.48437862 0.48438224\n",
            " 3.70007306 1.24775651 3.69660175 0.75224008 1.75224002 3.63684756\n",
            " 3.65340907 3.31071856 3.33469603 3.7800842  3.75288118 0.2477556\n",
            " 1.24775916 0.63685624 0.24775742 3.56211043 3.59790858 3.63684812\n",
            " 3.65902989 3.14964192 3.5632426  0.2477553  3.52392901 0.3631495\n",
            " 3.65466047 3.58531575 1.75222769 3.50560277 3.70069726 0.36314953\n",
            " 3.59616428 3.75035707 3.50367352 3.40810305 3.52604357 1.24777248\n",
            " 0.363149   3.79193338 0.36315373 3.63685448 0.75223609 3.65769314\n",
            " 0.36314742 3.65687383 3.63685854 0.75223926 3.75134283 3.6368495\n",
            " 3.59933679 3.65889641 3.50587981 0.36314822 0.24776172 3.74931327\n",
            " 3.40625603 0.75223802 3.89003009 3.60270426 3.40845841]\n"
          ]
        }
      ],
      "source": [
        "R = np.array(acq_data)\n",
        "\n",
        "R1= np.array(acq_data)\n",
        "\n",
        "#Set the number of values to replace. For example 20%:\n",
        "\n",
        "# Edit: changed len(mat) for mat.size\n",
        "prop = int(R.size * 0.2)\n",
        "\n",
        "#Randomly choose indices of the numpy array:\n",
        "i = [np.random.choice(range(R.shape[0])) for _ in range(prop)]\n",
        "j = [np.random.choice(range(R.shape[1])) for _ in range(prop)]\n",
        "\n",
        "#Change values with NaN\n",
        "R[i,j] = 0\n",
        "print(\"Original:\\n\",R1)\n",
        "print(\"Test Set:\\n\",R)\n",
        "R=np.rint(R)\n",
        "\n",
        "from sklearn.metrics import mean_squared_error\n",
        "mse = mean_squared_error(R, R1)\n",
        "print(\"RMSE=\",mse**0.5)\n",
        "\n",
        "mf = MF(R, K=10000, alpha=0.01, beta=0.01, iterations=10)\n",
        "training_process = mf.train()\n",
        "\n",
        "print(\"Learnt=\\n\",mf.full_matrix())\n",
        "msef=0.0\n",
        "for i1 in range(len(i)):\n",
        "    for i2 in range(len(j)):\n",
        "        msef = msef + (R1[i,j]-(mf.full_matrix())[i,j])**2\n",
        "msef = (msef/(len(j)*len(i)))\n",
        "print(\"RMSE f=\",msef**0.5)"
      ]
    }
  ],
  "metadata": {
    "colab": {
      "provenance": []
    },
    "kernelspec": {
      "display_name": "Python 3",
      "language": "python",
      "name": "python3"
    },
    "language_info": {
      "codemirror_mode": {
        "name": "ipython",
        "version": 3
      },
      "file_extension": ".py",
      "mimetype": "text/x-python",
      "name": "python",
      "nbconvert_exporter": "python",
      "pygments_lexer": "ipython3",
      "version": "3.6.7"
    }
  },
  "nbformat": 4,
  "nbformat_minor": 0
}